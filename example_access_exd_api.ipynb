{
 "cells": [
  {
   "cell_type": "markdown",
   "metadata": {},
   "source": [
    "# Access an ASAM ODS EXD-API Plugin"
   ]
  },
  {
   "cell_type": "markdown",
   "metadata": {},
   "source": [
    "## Prepare Python Environment to Access GRPC Service"
   ]
  },
  {
   "cell_type": "code",
   "execution_count": 1,
   "id": "d55852a6-abe0-4af2-91a9-e311e33deadb",
   "metadata": {},
   "outputs": [],
   "source": [
    "try:\n",
    "    import grpc as grpc_import_check\n",
    "except:\n",
    "    # first time you need to install dependencies\n",
    "    !python -m pip install --upgrade pip\n",
    "    !python -m pip install -U grpcio\n",
    "    # grpc protoc compiler\n",
    "    !python -m pip install -U grpcio-tools\n",
    "    #!python -m grpc_tools.protoc --proto_path=. --pyi_out=. --python_out=. ods.proto\n",
    "    #!python -m grpc_tools.protoc -I. --pyi_out=. --python_out=. --grpc_python_out=. ods_external_data.proto"
   ]
  },
  {
   "cell_type": "code",
   "execution_count": 2,
   "id": "c1b80c2f-5830-425b-909e-fd2cf5b895d0",
   "metadata": {},
   "outputs": [],
   "source": [
    "import os\n",
    "import pathlib\n",
    "\n",
    "import grpc\n",
    "from google.protobuf.json_format import MessageToJson\n",
    "\n",
    "import ods_pb2\n",
    "import ods_external_data_pb2\n",
    "import ods_external_data_pb2_grpc"
   ]
  },
  {
   "cell_type": "markdown",
   "metadata": {},
   "source": [
    "## EXD-API\n",
    "\n",
    "The EXD-API plugin is running as a RPC service at a given URL.\n",
    "Running `exd_api_server.py`´will run the plugin at the given URL."
   ]
  },
  {
   "cell_type": "code",
   "execution_count": 3,
   "metadata": {},
   "outputs": [],
   "source": [
    "exd_api_plugin_url = \"localhost:50051\""
   ]
  },
  {
   "cell_type": "markdown",
   "metadata": {},
   "source": [
    "## Import Phase\n",
    "\n",
    "We will open a file using the EXD-API and extract the internal structure of the file to import it into the ASAM ODS server."
   ]
  },
  {
   "cell_type": "code",
   "execution_count": 4,
   "id": "3c6367c9-5361-4229-96e1-57f7ff9de98e",
   "metadata": {},
   "outputs": [],
   "source": [
    "data_file_path = os.path.abspath('data/all_datatypes.parquet')\n",
    "if not os.path.exists(data_file_path):\n",
    "    raise Exception('Data file is missing')"
   ]
  },
  {
   "cell_type": "code",
   "execution_count": 5,
   "id": "c1d79d60-bce7-4b9c-95e4-9be54734bd69",
   "metadata": {},
   "outputs": [
    {
     "name": "stdout",
     "output_type": "stream",
     "text": [
      "file://c:/Users/andre/develop/GitHub/asam_ods_exd_api_parquet/data/all_datatypes.parquet\n"
     ]
    }
   ],
   "source": [
    "import_file_url = pathlib.Path(data_file_path).as_uri().replace('///', '//')\n",
    "import_file_parameters=\"\"\n",
    "print(import_file_url)\n",
    "\n",
    "# Will be filled from Structure\n",
    "access_file_url = None\n",
    "access_file_parameters = None"
   ]
  },
  {
   "cell_type": "markdown",
   "metadata": {},
   "source": [
    "### Extract Infos from Structure\n",
    "\n",
    "The structure contains infos about groups and channels to create corresponding measurements, submatrices and measurement_quantities"
   ]
  },
  {
   "cell_type": "code",
   "execution_count": 6,
   "metadata": {},
   "outputs": [
    {
     "name": "stdout",
     "output_type": "stream",
     "text": [
      "{\n",
      "  \"identifier\": {\n",
      "    \"url\": \"file://c:/Users/andre/develop/GitHub/asam_ods_exd_api_parquet/data/all_datatypes.parquet\"\n",
      "  },\n",
      "  \"name\": \"all_datatypes.parquet\",\n",
      "  \"groups\": [\n",
      "    {\n",
      "      \"name\": \"data\",\n",
      "      \"totalNumberOfChannels\": \"12\",\n",
      "      \"numberOfRows\": \"2\",\n",
      "      \"channels\": [\n",
      "        {\n",
      "          \"name\": \"int8_data\",\n",
      "          \"dataType\": \"DT_SHORT\"\n",
      "        },\n",
      "        {\n",
      "          \"id\": \"1\",\n",
      "          \"name\": \"uint8_data\",\n",
      "          \"dataType\": \"DT_BYTE\"\n",
      "        },\n",
      "        {\n",
      "          \"id\": \"2\",\n",
      "          \"name\": \"int16_data\",\n",
      "          \"dataType\": \"DT_SHORT\"\n",
      "        },\n",
      "        {\n",
      "          \"id\": \"3\",\n",
      "          \"name\": \"uint16_data\",\n",
      "          \"dataType\": \"DT_LONG\"\n",
      "        },\n",
      "        {\n",
      "          \"id\": \"4\",\n",
      "          \"name\": \"int32_data\",\n",
      "          \"dataType\": \"DT_LONG\"\n",
      "        },\n",
      "        {\n",
      "          \"id\": \"5\",\n",
      "          \"name\": \"uint32_data\",\n",
      "          \"dataType\": \"DT_LONGLONG\"\n",
      "        },\n",
      "        {\n",
      "          \"id\": \"6\",\n",
      "          \"name\": \"int64_data\",\n",
      "          \"dataType\": \"DT_LONGLONG\"\n",
      "        },\n",
      "        {\n",
      "          \"id\": \"7\",\n",
      "          \"name\": \"uint64_data\",\n",
      "          \"dataType\": \"DT_DOUBLE\"\n",
      "        },\n",
      "        {\n",
      "          \"id\": \"8\",\n",
      "          \"name\": \"date_data\",\n",
      "          \"dataType\": \"DT_DATE\"\n",
      "        },\n",
      "        {\n",
      "          \"id\": \"9\",\n",
      "          \"name\": \"float32_data\",\n",
      "          \"dataType\": \"DT_FLOAT\"\n",
      "        },\n",
      "        {\n",
      "          \"id\": \"10\",\n",
      "          \"name\": \"float64_data\",\n",
      "          \"dataType\": \"DT_DOUBLE\"\n",
      "        },\n",
      "        {\n",
      "          \"id\": \"11\",\n",
      "          \"name\": \"string_data\",\n",
      "          \"dataType\": \"DT_STRING\"\n",
      "        }\n",
      "      ]\n",
      "    }\n",
      "  ]\n",
      "}\n"
     ]
    }
   ],
   "source": [
    "with grpc.insecure_channel(exd_api_plugin_url) as channel:\n",
    "    stub = ods_external_data_pb2_grpc.ExternalDataReaderStub(channel)\n",
    "\n",
    "    # import file into ASAM ODS Server physical storage\n",
    "    import_identifier = ods_external_data_pb2.Identifier(\n",
    "        url=import_file_url,\n",
    "        parameters=import_file_parameters)\n",
    "    \n",
    "    import_handle = stub.Open(import_identifier)\n",
    "    try:\n",
    "        structure = stub.GetStructure(\n",
    "            ods_external_data_pb2.StructureRequest(\n",
    "                handle=import_handle))\n",
    "        print(MessageToJson(structure))\n",
    "\n",
    "        access_file_url = structure.identifier.url\n",
    "        access_file_parameters = structure.identifier.parameters\n",
    "\n",
    "        for group in structure.groups:\n",
    "            group_id = group.id\n",
    "            for channel in group.channels:\n",
    "                channel_id = channel.id\n",
    "    finally:\n",
    "        stub.Close(import_handle)\n"
   ]
  },
  {
   "cell_type": "markdown",
   "metadata": {},
   "source": [
    "## Access Bulk Data\n",
    "\n",
    "With the stored information the ASAM ODS server can access the bulk data from the EXD-API plugin"
   ]
  },
  {
   "cell_type": "code",
   "execution_count": 7,
   "metadata": {},
   "outputs": [
    {
     "name": "stdout",
     "output_type": "stream",
     "text": [
      "{\n",
      "  \"channels\": [\n",
      "    {\n",
      "      \"values\": {\n",
      "        \"dataType\": \"DT_SHORT\",\n",
      "        \"longArray\": {\n",
      "          \"values\": [\n",
      "            -2,\n",
      "            4\n",
      "          ]\n",
      "        }\n",
      "      }\n",
      "    },\n",
      "    {\n",
      "      \"id\": \"1\",\n",
      "      \"values\": {\n",
      "        \"dataType\": \"DT_BYTE\",\n",
      "        \"byteArray\": {\n",
      "          \"values\": \"AgQ=\"\n",
      "        }\n",
      "      }\n",
      "    }\n",
      "  ]\n",
      "}\n"
     ]
    }
   ],
   "source": [
    "with grpc.insecure_channel(exd_api_plugin_url) as channel:\n",
    "    stub = ods_external_data_pb2_grpc.ExternalDataReaderStub(channel)\n",
    "\n",
    "    # info from physical storage\n",
    "    access_group_id = 0\n",
    "    access_channel_ids = [0, 1]\n",
    "    access_identifier = ods_external_data_pb2.Identifier(\n",
    "        url=access_file_url,\n",
    "        parameters=access_file_parameters)\n",
    "\n",
    "    # open bulk access\n",
    "    access_handle = stub.Open(access_identifier)\n",
    "    try:\n",
    "        request = ods_external_data_pb2.ValuesRequest(\n",
    "            handle=access_handle,\n",
    "            group_id=access_group_id,\n",
    "            channel_ids=access_channel_ids)\n",
    "\n",
    "        # read first chunk\n",
    "        request.start = 0\n",
    "        request.limit = 3\n",
    "        values = stub.GetValues(request)\n",
    "        print(MessageToJson(values))\n",
    "\n",
    "    finally:\n",
    "        stub.Close(access_handle)"
   ]
  }
 ],
 "metadata": {
  "kernelspec": {
   "display_name": "Python 3",
   "language": "python",
   "name": "python3"
  },
  "language_info": {
   "codemirror_mode": {
    "name": "ipython",
    "version": 3
   },
   "file_extension": ".py",
   "mimetype": "text/x-python",
   "name": "python",
   "nbconvert_exporter": "python",
   "pygments_lexer": "ipython3",
   "version": "3.12.3"
  }
 },
 "nbformat": 4,
 "nbformat_minor": 5
}
